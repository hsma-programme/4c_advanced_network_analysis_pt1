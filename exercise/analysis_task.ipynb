{
 "cells": [
  {
   "cell_type": "markdown",
   "id": "345431d7-4e91-41d4-9b58-4e7bf127a2f9",
   "metadata": {},
   "source": [
    "### Analysis Task (Module 4C - Advanced Network Analysis Part 1)\n",
    "\n",
    "You are provided with node and edge data character associations for Game of Thrones seasons 1 and 2.\n",
    "Adapt the code to perform the analysis on both seasons 1 and 2.\n",
    "Compare the various metrics for both seasons.\n",
    "Be prepared to come back and tell us something interesting you found from the analysis!"
   ]
  },
  {
   "cell_type": "code",
   "execution_count": null,
   "id": "c12fa728-1fa9-4f74-b8cd-1776f57926cd",
   "metadata": {},
   "outputs": [],
   "source": [
    "# Library Imports\n",
    "import networkx as nx\n",
    "import pandas as pd"
   ]
  },
  {
   "cell_type": "code",
   "execution_count": null,
   "id": "f1e3c781-f7d1-4fdb-9a41-fbe2df49309a",
   "metadata": {},
   "outputs": [],
   "source": [
    "# Create graph function\n",
    "def create_graph(nodeData, edgeData):\n",
    "    '''\n",
    "    Helper function to construct populated graph object\n",
    "    \n",
    "    Params\n",
    "    ------\n",
    "    nodeData : pd.DataFrame\n",
    "        Dataframe containing node data\n",
    "\n",
    "    edgeData : pd.DataFrame\n",
    "        Dataframe containing edge data\n",
    "    \n",
    "    Returns\n",
    "    -------\n",
    "    G : NetworkX Graph Object\n",
    "        Graph object with nodes, edges and weights added\n",
    "    '''\n",
    "    ## Initiate the graph object\n",
    "    G = nx.Graph()\n",
    "    \n",
    "    ## Tranform the data into the correct format for use with NetworkX\n",
    "    # Node tuples (ID, dict of attributes)\n",
    "    idList = nodeData['Id'].tolist()\n",
    "    labels =  pd.DataFrame(nodeData['Label'])\n",
    "    labelDicts = labels.to_dict(orient='records')\n",
    "    nodeTuples = [tuple(r) for r in zip(idList,labelDicts)]\n",
    "    \n",
    "    # Edge tuples (Source, Target, dict of attributes)\n",
    "    sourceList = edgeData['Source'].tolist()\n",
    "    targetList = edgeData['Target'].tolist()\n",
    "    weights = pd.DataFrame(edgeData['weight'])\n",
    "    weightDicts = weights.to_dict(orient='records')\n",
    "    edgeTuples = [tuple(r) for r in zip(sourceList,targetList,weightDicts)]\n",
    "    \n",
    "    ## Add the nodes and edges to the graph\n",
    "    G.add_nodes_from(nodeTuples)\n",
    "    G.add_edges_from(edgeTuples)\n",
    "    \n",
    "    return G"
   ]
  },
  {
   "cell_type": "code",
   "execution_count": null,
   "id": "e4a3ee7b-e624-4638-adee-bfc05bf13d9b",
   "metadata": {},
   "outputs": [],
   "source": [
    "# Read in data\n",
    "nodesOne = pd.read_csv('../data/got-s1-nodes.csv', low_memory=False)\n",
    "edgesOne = pd.read_csv('../data/got-s1-edges.csv', low_memory=False)"
   ]
  },
  {
   "cell_type": "code",
   "execution_count": null,
   "id": "7c17716f-95e7-4f9a-94f1-d4bb592d52a6",
   "metadata": {},
   "outputs": [],
   "source": [
    "# Create graph object using the above function\n",
    "G = create_graph(nodesOne, edgesOne)"
   ]
  },
  {
   "cell_type": "code",
   "execution_count": null,
   "id": "f0b6f901-06ac-45f6-a8c2-923dc2437969",
   "metadata": {},
   "outputs": [],
   "source": [
    "# Display degree view of all nodes\n",
    "nx.degree(G)"
   ]
  },
  {
   "cell_type": "code",
   "execution_count": null,
   "id": "ce8876e5-cc20-4fa7-a793-75dd93b53239",
   "metadata": {},
   "outputs": [],
   "source": [
    "# Returns the modularity matrix\n",
    "nx.modularity_matrix(G)"
   ]
  },
  {
   "cell_type": "code",
   "execution_count": null,
   "id": "e745524e-aa83-4fb1-a826-50318d687a15",
   "metadata": {},
   "outputs": [],
   "source": [
    "# Return the density of a graph.\n",
    "nx.density(G)"
   ]
  },
  {
   "cell_type": "code",
   "execution_count": null,
   "id": "de35c342-9416-4cb9-8feb-69462d69e600",
   "metadata": {},
   "outputs": [],
   "source": [
    "# Return list of all maximal cliques in an undirected graph.\n",
    "list(nx.find_cliques(G))"
   ]
  },
  {
   "cell_type": "code",
   "execution_count": null,
   "id": "875749d0-d53b-41b3-b23d-fe510772d21a",
   "metadata": {},
   "outputs": [],
   "source": [
    "# Returns the number of maximal cliques for each node\n",
    "nx.number_of_cliques(G)"
   ]
  },
  {
   "cell_type": "code",
   "execution_count": null,
   "id": "237c4130-e472-4c5a-ab20-8071b635217c",
   "metadata": {},
   "outputs": [],
   "source": [
    "# Compute the clustering coefficient for nodes.\n",
    "nx.clustering(G)"
   ]
  },
  {
   "cell_type": "code",
   "execution_count": null,
   "id": "d3a25d3e-189f-4893-b207-85d86e40f1b5",
   "metadata": {},
   "outputs": [],
   "source": [
    "# Compute the eigenvector centrality for the graph\n",
    "nx.eigenvector_centrality(G)"
   ]
  },
  {
   "cell_type": "code",
   "execution_count": null,
   "id": "9f1e813f-fe75-40aa-ad10-cd241d052896",
   "metadata": {},
   "outputs": [],
   "source": [
    "# Return number of islolate(s) within graph\n",
    "nx.number_of_isolates(G)"
   ]
  },
  {
   "cell_type": "code",
   "execution_count": null,
   "id": "ff21a127-4194-49f8-886c-c67c4da82e08",
   "metadata": {},
   "outputs": [],
   "source": [
    "# Identifies islolate(s) within graph\n",
    "nx.isolates(G)"
   ]
  },
  {
   "cell_type": "code",
   "execution_count": null,
   "id": "005ddcb3-3cbd-4ab0-88d2-68f646144296",
   "metadata": {},
   "outputs": [],
   "source": [
    "# Return the PageRank of the nodes in the graph.\n",
    "nx.pagerank(G)"
   ]
  },
  {
   "cell_type": "code",
   "execution_count": null,
   "id": "89cff375-83d0-4c4a-a491-443cc63fcc27",
   "metadata": {},
   "outputs": [],
   "source": [
    "# Compute shortest paths in the graph.\n",
    "nx.shortest_path(G)"
   ]
  }
 ],
 "metadata": {
  "kernelspec": {
   "display_name": "Python 3 (ipykernel)",
   "language": "python",
   "name": "python3"
  },
  "language_info": {
   "codemirror_mode": {
    "name": "ipython",
    "version": 3
   },
   "file_extension": ".py",
   "mimetype": "text/x-python",
   "name": "python",
   "nbconvert_exporter": "python",
   "pygments_lexer": "ipython3",
   "version": "3.10.6"
  }
 },
 "nbformat": 4,
 "nbformat_minor": 5
}
